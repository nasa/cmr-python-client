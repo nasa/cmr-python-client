{
 "cells": [
  {
   "cell_type": "markdown",
   "metadata": {},
   "source": [
    "# Python Wrapper for CMR\n",
    "`A python library to interface with CMR - Token Demo`\n",
    "\n",
    "This demo will show how to request an EDL token from CMR while inside a notebook."
   ]
  },
  {
   "cell_type": "markdown",
   "metadata": {},
   "source": [
    "## Demo Safe\n",
    "Just for this demo, I'm going to create a function that hids some of an EDL token, I don't want anyone to actually see my tokens"
   ]
  },
  {
   "cell_type": "code",
   "execution_count": null,
   "metadata": {},
   "outputs": [],
   "source": [
    "def safe_token_print(actual_token):\n",
    "    if actual_token is None:\n",
    "        print (\"no token\")\n",
    "        return\n",
    "    scrub = 5\n",
    "    strike = \"*\" * scrub\n",
    "    safe = actual_token[scrub:(len(actual_token)-scrub)]\n",
    "    print (strike + safe + strike)\n",
    "\n",
    "print (\"example:\")\n",
    "safe_token_print(\"012345678909876543210\")"
   ]
  },
  {
   "cell_type": "markdown",
   "metadata": {},
   "source": [
    "## Loading the library\n",
    "This will not be needed once we have the library working through PIP, but today I'm going to use my local checkout."
   ]
  },
  {
   "cell_type": "code",
   "execution_count": null,
   "metadata": {},
   "outputs": [],
   "source": [
    "import sys\n",
    "sys.path.append('/Users/tacherr1/src/project/eo-metadata-tools/CMR/python/')"
   ]
  },
  {
   "cell_type": "markdown",
   "metadata": {},
   "source": [
    "### Import the library\n",
    "This should be all you need after we get PIP support"
   ]
  },
  {
   "cell_type": "code",
   "execution_count": null,
   "metadata": {},
   "outputs": [],
   "source": [
    "import cmr.auth.token as t"
   ]
  },
  {
   "cell_type": "markdown",
   "metadata": {},
   "source": [
    "## Using a token file\n",
    "In this example we are going to store our password in a file, listed below is how you can specify the file, however the setting is actually the assumed file if no setting is given."
   ]
  },
  {
   "cell_type": "code",
   "execution_count": null,
   "metadata": {},
   "outputs": [],
   "source": [
    "options = {\"cmr.token.file\": \"~/.cmr_token\"} #this is the default actually\n",
    "safe_token_print(t.token(t.token_file, options))\n",
    "\n",
    "options = {\"cmr.token.file\": \"~/.cmr_token_fake_file\"} #this is the default actually\n",
    "safe_token_print(t.token(t.token_file, options))"
   ]
  },
  {
   "cell_type": "markdown",
   "metadata": {},
   "source": [
    "## Using Keychain on Mac OS X\n",
    "in this example I am using an already existing password saved securly in keychain. Keychain may require a human to type in the password, I have clicked \"Allways allow\" so we may not see it."
   ]
  },
  {
   "cell_type": "code",
   "execution_count": null,
   "metadata": {},
   "outputs": [],
   "source": [
    "options = {'token.manager.service': 'cmr lib token'} #this is not the default\n",
    "safe_token_print(t.token(t.token_manager, options))"
   ]
  },
  {
   "cell_type": "markdown",
   "metadata": {},
   "source": [
    "### Search both at once"
   ]
  },
  {
   "cell_type": "code",
   "execution_count": null,
   "metadata": {},
   "outputs": [],
   "source": [
    "options = {\"cmr.token.file\": \"~/.cmr_token_fake_file\", 'token.manager.service': 'cmr lib token'}\n",
    "safe_token_print(t.token([t.token_manager, t.token_file], options))"
   ]
  },
  {
   "cell_type": "markdown",
   "metadata": {},
   "source": [
    "## Bulit in help\n",
    "I can't remember anything, so here is some built in help which pulls from the python docstring for each function of interest"
   ]
  },
  {
   "cell_type": "code",
   "execution_count": null,
   "metadata": {},
   "outputs": [],
   "source": [
    "print(t.print_help('token_'))"
   ]
  },
  {
   "cell_type": "markdown",
   "metadata": {},
   "source": [
    "----\n",
    "The End"
   ]
  },
  {
   "cell_type": "code",
   "execution_count": null,
   "metadata": {},
   "outputs": [],
   "source": []
  }
 ],
 "metadata": {
  "kernelspec": {
   "display_name": "Python 3",
   "language": "python",
   "name": "python3"
  },
  "language_info": {
   "codemirror_mode": {
    "name": "ipython",
    "version": 3
   },
   "file_extension": ".py",
   "mimetype": "text/x-python",
   "name": "python",
   "nbconvert_exporter": "python",
   "pygments_lexer": "ipython3",
   "version": "3.8.5"
  }
 },
 "nbformat": 4,
 "nbformat_minor": 4
}
