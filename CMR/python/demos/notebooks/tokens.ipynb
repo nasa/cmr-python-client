{
 "cells": [
  {
   "cell_type": "markdown",
   "metadata": {},
   "source": [
    "# Python Wrapper for CMR\n",
    "`A python library to interface with CMR - Token Demo`\n",
    "\n",
    "This demo will show how to request an EDL token from CMR while inside a notebook."
   ]
  },
  {
   "cell_type": "markdown",
   "metadata": {},
   "source": [
    "## Practice Demo Safety\n",
    "Just for this demo, I'm going to create a function that hides some of an EDL token, I don't want anyone to actually see my tokens."
   ]
  },
  {
   "cell_type": "code",
   "execution_count": null,
   "metadata": {},
   "outputs": [],
   "source": [
    "def safe_token_print(actual_token):\n",
    "    if actual_token is None:\n",
    "        print (\"no token\")\n",
    "        return\n",
    "    token_len = len(actual_token)\n",
    "    keep = int(token_len / 4)\n",
    "    token_len = len(actual_token)\n",
    "    strike = \"*\" * (token_len-(keep*2))\n",
    "    print (actual_token[:keep] + strike + actual_token[token_len-keep:])\n",
    "\n",
    "print (\"example:\")\n",
    "safe_token_print(\"012345678909876543210\")"
   ]
  },
  {
   "cell_type": "markdown",
   "metadata": {},
   "source": [
    "## Loading the library \n",
    "Do one of the following, but not both"
   ]
  },
  {
   "cell_type": "markdown",
   "metadata": {},
   "source": [
    "### Choice A) With PIP\n",
    "Load the library via pip in one of these ways:\n",
    "\n",
    "* `./runme.sh -p -i` - install from your local copy with the runme script\n",
    "* `pip3 install https://github.com/nasa/eo-metadata-tools/releases/download/latest-master/eo_metadata_tools_cmr-0.0.1-py3-none-any.whl` - install pre-packaged version from github"
   ]
  },
  {
   "cell_type": "markdown",
   "metadata": {},
   "source": [
    "### Choice B) Reference Dev Copy\n",
    "This will not be needed once we have the library working through PIP, but with this, a local checkout can be used. In this case, the command `git clone https://github.com/nasa/eo-metadata-tools` was called in `~/src/project`."
   ]
  },
  {
   "cell_type": "code",
   "execution_count": null,
   "metadata": {},
   "outputs": [],
   "source": [
    "import os\n",
    "import sys\n",
    "sys.path.append(os.path.expanduser('~/src/project/eo-metadata-tools/CMR/python/'))"
   ]
  },
  {
   "cell_type": "markdown",
   "metadata": {},
   "source": [
    "### Import the library\n",
    "This should be all you need after we get PIP support. Take care to make sure you install to the same version of python if you have multiple instances."
   ]
  },
  {
   "cell_type": "code",
   "execution_count": null,
   "metadata": {},
   "outputs": [],
   "source": [
    "import cmr.auth.token as t\n",
    "\n",
    "import platform\n",
    "print (\"Found in \" + platform.python_version())"
   ]
  },
  {
   "cell_type": "markdown",
   "metadata": {},
   "source": [
    "## Using a token file\n",
    "In this example we are going to store our password in a file, listed below is how you can specify the file, however the setting is actually the assumed file if no setting is given.\n",
    "\n",
    "To get a token, generate one using the [URS user generated token page](https://urs.earthdata.nasa.gov/user_tokens). Take that token and store it in the file `~/.cmr_token`."
   ]
  },
  {
   "cell_type": "code",
   "execution_count": null,
   "metadata": {
    "scrolled": true
   },
   "outputs": [],
   "source": [
    "options = {\"cmr.token.file\": \"~/.cmr_token\"} #this is the default actually\n",
    "safe_token_print(t.token(t.token_file, options))\n",
    "\n",
    "options = {} #use no overrides\n",
    "safe_token_print(t.token(t.token_file, options))\n",
    "\n",
    "options = {\"cmr.token.file\": \"~/.cmr_token_fake_file\"} #this is not the default\n",
    "safe_token_print(t.token(t.token_file, options))"
   ]
  },
  {
   "cell_type": "markdown",
   "metadata": {},
   "source": [
    "## Using Keychain on Mac OS X\n",
    "in this example I am using an already existing password saved securly in keychain. For directions on how to setup a keychain record, see the [README](https://github.com/nasa/eo-metadata-tools/tree/master/CMR/python). Keychain may require a human to type in the password, I have clicked \"Allways allow\" so we may not see it. When using this method, delete the value in `~/.cmr_token` as having a clear text token defeats the security offered by Keychain. "
   ]
  },
  {
   "cell_type": "code",
   "execution_count": null,
   "metadata": {},
   "outputs": [],
   "source": [
    "options = {'token.manager.service': 'cmr lib token'} #this is not the default\n",
    "safe_token_print(t.token(t.token_manager, options))"
   ]
  },
  {
   "cell_type": "markdown",
   "metadata": {},
   "source": [
    "### Search both at once"
   ]
  },
  {
   "cell_type": "code",
   "execution_count": null,
   "metadata": {},
   "outputs": [],
   "source": [
    "options = {\"cmr.token.file\": \"~/.cmr_token_fake_file\", 'token.manager.service': 'cmr lib token'}\n",
    "safe_token_print(t.token([t.token_manager, t.token_file], options))"
   ]
  },
  {
   "cell_type": "markdown",
   "metadata": {},
   "source": [
    "## Now search with a token\n",
    "Do a very basic search in production using a token. Results **may** very based on the permisions of the user for which the token is for."
   ]
  },
  {
   "cell_type": "code",
   "execution_count": null,
   "metadata": {},
   "outputs": [],
   "source": [
    "import cmr.search.collection as coll"
   ]
  },
  {
   "cell_type": "code",
   "execution_count": null,
   "metadata": {},
   "outputs": [],
   "source": [
    "# Common settings for both queries\n",
    "params={'keyword':'modis', 'sort_key': 'instrument'}\n",
    "filters=[coll.collection_core_fields]\n",
    "configs1={'env': 'uat'}\n",
    "\n",
    "# For the second query a token will be called from keychain and sent as a Bearer token\n",
    "token = \"Bearer: \" + t.token()\n",
    "configs2=configs1.copy()\n",
    "configs2['cmr-token'] = token\n",
    "\n",
    "print(coll.search(params, filters=filters, config=configs1, limit=2))\n",
    "print('\\nvs\\n')\n",
    "safe_token_print(token)\n",
    "print(coll.search(params, filters=filters, config=configs2, limit=2))"
   ]
  },
  {
   "cell_type": "markdown",
   "metadata": {},
   "source": [
    "## Bulit in help\n",
    "I can't remember anything, so here is some built in help which pulls from the python docstring for each function of interest"
   ]
  },
  {
   "cell_type": "code",
   "execution_count": null,
   "metadata": {},
   "outputs": [],
   "source": [
    "print(t.help_text('token_'))"
   ]
  },
  {
   "cell_type": "markdown",
   "metadata": {},
   "source": [
    "----\n",
    "The End"
   ]
  }
 ],
 "metadata": {
  "kernelspec": {
   "display_name": "Python 3",
   "language": "python",
   "name": "python3"
  },
  "language_info": {
   "codemirror_mode": {
    "name": "ipython",
    "version": 3
   },
   "file_extension": ".py",
   "mimetype": "text/x-python",
   "name": "python",
   "nbconvert_exporter": "python",
   "pygments_lexer": "ipython3",
   "version": "3.8.5"
  }
 },
 "nbformat": 4,
 "nbformat_minor": 4
}
