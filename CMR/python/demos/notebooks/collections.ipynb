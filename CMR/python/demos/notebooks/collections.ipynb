{
 "cells": [
  {
   "cell_type": "markdown",
   "metadata": {},
   "source": [
    "# Python Wrapper for CMR\n",
    "`A python library to interface with CMR - Collection Search Demo`\n",
    "\n",
    "This demo will show how to preform a **collection** search against CMR while inside a notebook."
   ]
  },
  {
   "cell_type": "markdown",
   "metadata": {},
   "source": [
    "## Loading the library\n",
    "From the command line, make sure you call `runme.sh -p -i` to both backage and install the library through pip3.n"
   ]
  },
  {
   "cell_type": "markdown",
   "metadata": {},
   "source": [
    "## Load modules"
   ]
  },
  {
   "cell_type": "code",
   "execution_count": null,
   "metadata": {},
   "outputs": [],
   "source": [
    "import cmr.search.collection as coll"
   ]
  },
  {
   "cell_type": "markdown",
   "metadata": {},
   "source": [
    "If something goes wrong, try running the next block to help debug the issue"
   ]
  },
  {
   "cell_type": "code",
   "execution_count": null,
   "metadata": {},
   "outputs": [],
   "source": [
    "import platform\n",
    "print (\"Python version is {}.\".format(platform.python_version()))\n",
    "\n",
    "import cmr\n",
    "print (\"What build information exists for the library:\\n{}\".format(cmr.BUILD))"
   ]
  },
  {
   "cell_type": "markdown",
   "metadata": {},
   "source": [
    "## Get Online Help\n",
    "\n",
    "At least some understanding of the CMR API will be needed from time to time, to assist with that the following call can be used to open a browser window to the API. For the fun of it, you can pass in an HTML anchor tag on the page and jump directly there."
   ]
  },
  {
   "cell_type": "code",
   "execution_count": null,
   "metadata": {},
   "outputs": [],
   "source": [
    "coll.open_api()"
   ]
  },
  {
   "cell_type": "markdown",
   "metadata": {},
   "source": [
    "## Searching\n",
    "\n",
    "### Perform A Basic Searches\n",
    "Search for all records that contain the word 'salt'."
   ]
  },
  {
   "cell_type": "code",
   "execution_count": null,
   "metadata": {
    "scrolled": false
   },
   "outputs": [],
   "source": [
    "results = coll.search({'keyword':'salt'})\n",
    "print(\"Found {} records.\".format(len(results)))\n",
    "for i in results:\n",
    "    print (i)"
   ]
  },
  {
   "cell_type": "markdown",
   "metadata": {},
   "source": [
    "### A Search with a columns filtered from result\n",
    "Reduce the result columns by only showing the collection curration fields and drop the entry title.\n",
    "\n",
    "This search also searches UAT"
   ]
  },
  {
   "cell_type": "code",
   "execution_count": null,
   "metadata": {},
   "outputs": [],
   "source": [
    "params = {}\n",
    "\n",
    "#params['provider'] = 'SEDAC' # 276 records\n",
    "#params['keyword'] = 'fish food' # 131 records\n",
    "params['keyword'] = 'salt' # 290 records\n",
    "config={'env':'uat'} # 290 in prod, 49 in UAT as of 2020-12-01\n",
    "results = coll.search(params,\n",
    "                      filters=[coll.collection_core_fields,\n",
    "                          coll.drop_fields('EntryTitle')],\n",
    "                      limit=1000,\n",
    "                      config=config)\n",
    "print(\"Found {} records.\".format(len(results)))\n",
    "for i in results:\n",
    "    print (i)"
   ]
  },
  {
   "cell_type": "markdown",
   "metadata": {},
   "source": [
    "### Find a lot of collection records\n",
    "This should find just over a full page (2000) of results."
   ]
  },
  {
   "cell_type": "code",
   "execution_count": null,
   "metadata": {},
   "outputs": [],
   "source": [
    "params = {}\n",
    "results = coll.search(params,\n",
    "                      filters=[coll.collection_core_fields, coll.drop_fields('EntryTitle')],\n",
    "                      limit=2048,\n",
    "                      config={'env':'uat'})\n",
    "print(\"Found {} records.\".format(len(results)))\n",
    "for i in results:\n",
    "    print (i)\n",
    "    "
   ]
  },
  {
   "cell_type": "markdown",
   "metadata": {},
   "source": [
    "## Applying Filters after a search\n",
    "Internally the code calls apply_filters() but it can be called manually as show below. One reason to do this is to download the data once and then apply filters as needed."
   ]
  },
  {
   "cell_type": "code",
   "execution_count": null,
   "metadata": {},
   "outputs": [],
   "source": [
    "params = {}\n",
    "raw_results = coll.search(params, limit=2, config={'env':'uat'})"
   ]
  },
  {
   "cell_type": "code",
   "execution_count": null,
   "metadata": {},
   "outputs": [],
   "source": [
    "clean_results = coll.apply_filters([coll.collection_core_fields,coll.drop_fields('EntryTitle')], raw_results)\n",
    "\n",
    "print(\"Found {} records.\".format(len(clean_results)))\n",
    "for i in clean_results:\n",
    "    print (i)"
   ]
  },
  {
   "cell_type": "markdown",
   "metadata": {},
   "source": [
    "## Sorting"
   ]
  },
  {
   "cell_type": "code",
   "execution_count": null,
   "metadata": {},
   "outputs": [],
   "source": [
    "def sorted_search(params):\n",
    "    results = coll.search(params, filters=[coll.collection_core_fields], limit=11)\n",
    "    print(\"Found {} records.\".format(len(results)))\n",
    "    for i in results:\n",
    "        print (i)\n",
    "    \n",
    "#params = {'keyword':'modis', 'sort_key': 'instrument'}\n",
    "sorted_search({'keyword':'modis', 'sort_key': 'instrument'})\n",
    "print('\\nvs\\n')\n",
    "sorted_search({'keyword':'modis', 'sort_key': '-instrument'})"
   ]
  },
  {
   "cell_type": "markdown",
   "metadata": {},
   "source": [
    "### Help with Sort Keys\n",
    "Can not remember the sort keys, look them up"
   ]
  },
  {
   "cell_type": "code",
   "execution_count": null,
   "metadata": {},
   "outputs": [],
   "source": [
    "coll.open_api(\"#sorting-collection-results\")"
   ]
  },
  {
   "cell_type": "markdown",
   "metadata": {},
   "source": [
    "## Getting Help\n",
    "print out all the docstrings, you can filter by a prefix if you want"
   ]
  },
  {
   "cell_type": "code",
   "execution_count": null,
   "metadata": {},
   "outputs": [],
   "source": [
    "print(coll.help_text())"
   ]
  },
  {
   "cell_type": "markdown",
   "metadata": {},
   "source": [
    "----\n",
    "EOF"
   ]
  }
 ],
 "metadata": {
  "kernelspec": {
   "display_name": "Python 3",
   "language": "python",
   "name": "python3"
  },
  "language_info": {
   "codemirror_mode": {
    "name": "ipython",
    "version": 3
   },
   "file_extension": ".py",
   "mimetype": "text/x-python",
   "name": "python",
   "nbconvert_exporter": "python",
   "pygments_lexer": "ipython3",
   "version": "3.8.5"
  }
 },
 "nbformat": 4,
 "nbformat_minor": 4
}
