{
 "cells": [
  {
   "cell_type": "markdown",
   "metadata": {},
   "source": [
    "# Python Wrapper for CMR\n",
    "`A python library to interface with CMR - Granule Search Demo`\n",
    "\n",
    "This demo will show how to preform a search for **Granules** against CMR while inside a notebook."
   ]
  },
  {
   "cell_type": "markdown",
   "metadata": {},
   "source": [
    "## Loading the library \n",
    "To use this library, it needs to be loaded into Python. To do this, do one of the following, but not both."
   ]
  },
  {
   "cell_type": "markdown",
   "metadata": {},
   "source": [
    "### Choice A) With PIP\n",
    "Load the library via pip in one of these ways:\n",
    "\n",
    "* local build with: `./runme.sh -u -p -i`\n",
    "    * this does an uninstall if you already have it,\n",
    "    * then packages up a 'wheel' file,\n",
    "    * and finally install the 'wheel' file using pip3\n",
    "* lattest from the web: `pip3 install https://github.com/nasa/eo-metadata-tools/releases/download/latest-master/eo_metadata_tools_cmr-0.0.1-py3-none-any.whl`\n",
    "    * install pre-packaged version from github\n",
    "\n",
    "### or ###\n",
    "\n",
    "### Choice B) Reference a local Copy\n",
    "This is normally only done if you wish to make local changes or you are testing code. In this case, the command `git clone https://github.com/nasa/eo-metadata-tools` was called in `~/src/project` directory, you may need to change the path below depending on where you performed the clone."
   ]
  },
  {
   "cell_type": "code",
   "execution_count": null,
   "metadata": {},
   "outputs": [],
   "source": [
    "import os\n",
    "import sys\n",
    "sys.path.append(os.path.expanduser('~/src/project/eo-metadata-tools/CMR/python/'))"
   ]
  },
  {
   "cell_type": "markdown",
   "metadata": {},
   "source": [
    "## Import Modules"
   ]
  },
  {
   "cell_type": "code",
   "execution_count": null,
   "metadata": {},
   "outputs": [],
   "source": [
    "import cmr.search.granule as gran\n",
    "\n",
    "import cmr\n",
    "print (\"What build information exists for the library:\\n{}\".format(cmr.BUILD))"
   ]
  },
  {
   "cell_type": "markdown",
   "metadata": {},
   "source": [
    "If something goes wrong, try running the next block to help debug the issue."
   ]
  },
  {
   "cell_type": "code",
   "execution_count": null,
   "metadata": {},
   "outputs": [],
   "source": [
    "import platform\n",
    "print (\"Python version is {}.\".format(platform.python_version()))\n",
    "\n",
    "import cmr\n",
    "print (\"What build information exists for the library:\\n{}\".format(cmr.BUILD))"
   ]
  },
  {
   "cell_type": "markdown",
   "metadata": {},
   "source": [
    "## Get Online Help\n",
    "\n",
    "At least some understanding of the CMR API will be needed from time to time, to assist with that the following call can be used to open a browser window to the API. For the fun of it, you can pass in an HTML anchor tag on the page and jump directly there."
   ]
  },
  {
   "cell_type": "code",
   "execution_count": null,
   "metadata": {},
   "outputs": [],
   "source": [
    "gran.open_api()"
   ]
  },
  {
   "cell_type": "code",
   "execution_count": null,
   "metadata": {},
   "outputs": [],
   "source": [
    "gran.open_api(\"#headers\")"
   ]
  },
  {
   "cell_type": "markdown",
   "metadata": {},
   "source": [
    "## Basic Search\n"
   ]
  },
  {
   "cell_type": "code",
   "execution_count": null,
   "metadata": {},
   "outputs": [],
   "source": [
    "params = {}\n",
    "params['provider'] = 'ORNL_DAAC' \n",
    "results = gran.search(params)\n",
    "print(\"Found {} records.\".format(len(results)))\n",
    "for i in results:\n",
    "    print (i)"
   ]
  },
  {
   "cell_type": "markdown",
   "metadata": {},
   "source": [
    "## Perform a Filtered Result\n",
    "\n",
    "Search as before, but only return the meta section of the response."
   ]
  },
  {
   "cell_type": "code",
   "execution_count": null,
   "metadata": {},
   "outputs": [],
   "source": [
    "params = {}\n",
    "\n",
    "params['provider'] = 'ORNL_DAAC'\n",
    "config = {'env':'uat'}\n",
    "results = gran.search(params, filters=[gran.meta_fields], config=config)\n",
    "print(\"Found {} records.\".format(len(results)))\n",
    "for i in results:\n",
    "    print (i)"
   ]
  },
  {
   "cell_type": "markdown",
   "metadata": {},
   "source": [
    "## Perform a Chain of Filtered Results\n",
    "In this example, perform many filters, each making an aditional change to the results"
   ]
  },
  {
   "cell_type": "code",
   "execution_count": null,
   "metadata": {},
   "outputs": [],
   "source": [
    "params = {}\n",
    "\n",
    "params['provider'] = 'ORNL_DAAC'\n",
    "results = gran.search(params,\n",
    "                      filters=[gran.meta_fields,\n",
    "                               gran.drop_fields('concept-type'), \n",
    "                               gran.drop_fields('native-id'),\n",
    "                               gran.drop_fields('format'),\n",
    "                               gran.drop_fields('revision-date')])\n",
    "print(\"Found {} records.\".format(len(results)))\n",
    "for i in results:\n",
    "    print (i)"
   ]
  },
  {
   "cell_type": "markdown",
   "metadata": {},
   "source": [
    "## Perform a Sorted Search\n",
    "\n",
    "In this example, perform two searches which sort the results in ascending and descending order"
   ]
  },
  {
   "cell_type": "code",
   "execution_count": null,
   "metadata": {},
   "outputs": [],
   "source": [
    "def list_by_size(query):\n",
    "    \"\"\"Search and display the results in the same way\"\"\"\n",
    "    results = gran.search(query, filters=[gran.umm_fields], limit=10)\n",
    "    print(\"Found {} records.\".format(len(results)))\n",
    "    for i in results:\n",
    "        print (i['DataGranule']['ArchiveAndDistributionInformation'][0]['Size'])\n",
    "\n",
    "list_by_size({'provider': 'ORNL_DAAC', 'sort_key': 'data_size'})\n",
    "print (\"\\nvs\\n\")\n",
    "list_by_size({'provider': 'ORNL_DAAC', 'sort_key': '-data_size'})"
   ]
  },
  {
   "cell_type": "markdown",
   "metadata": {},
   "source": [
    "## Finding Granules with Collections\n",
    "\n",
    "To perform a compound search, use the sample_by_collections() function which will return a sample of granules from collections found with a collection search. Limits work differently in this function. You can specify two types of limits to records in an array:\n",
    "\n",
    "* granule limits per collection\n",
    "* collection limits\n",
    "\n",
    "If any of the limits are None, then the code will default to a value."
   ]
  },
  {
   "cell_type": "code",
   "execution_count": null,
   "metadata": {},
   "outputs": [],
   "source": [
    "filters=[gran.granule_core_fields,\n",
    "         gran.drop_fields('concept-id'),\n",
    "         gran.drop_fields('revision-id'),\n",
    "         gran.drop_fields('native-id')]\n",
    "gran.sample_by_collections({'keyword':'water'}, filters=filters, limits=[2, 5])"
   ]
  },
  {
   "cell_type": "markdown",
   "metadata": {},
   "source": [
    "### Help with Sort Keys\n",
    "Can not remember the sort keys, look them up"
   ]
  },
  {
   "cell_type": "code",
   "execution_count": null,
   "metadata": {},
   "outputs": [],
   "source": [
    "gran.open_api(\"#sorting-granule-results\")"
   ]
  },
  {
   "cell_type": "markdown",
   "metadata": {},
   "source": [
    "## More help\n",
    "Get a print out of the functions in this API"
   ]
  },
  {
   "cell_type": "code",
   "execution_count": null,
   "metadata": {},
   "outputs": [],
   "source": [
    "print(gran.help_text('_filters'))"
   ]
  },
  {
   "cell_type": "markdown",
   "metadata": {},
   "source": [
    "----\n",
    "EOL"
   ]
  }
 ],
 "metadata": {
  "kernelspec": {
   "display_name": "Python 3",
   "language": "python",
   "name": "python3"
  },
  "language_info": {
   "codemirror_mode": {
    "name": "ipython",
    "version": 3
   },
   "file_extension": ".py",
   "mimetype": "text/x-python",
   "name": "python",
   "nbconvert_exporter": "python",
   "pygments_lexer": "ipython3",
   "version": "3.8.5"
  }
 },
 "nbformat": 4,
 "nbformat_minor": 4
}
